{
  "nbformat": 4,
  "nbformat_minor": 0,
  "metadata": {
    "colab": {
      "provenance": [],
      "gpuType": "T4",
      "toc_visible": true,
      "authorship_tag": "ABX9TyP93wWRm8Mqxin7JB3hQVN6",
      "include_colab_link": true
    },
    "kernelspec": {
      "name": "python3",
      "display_name": "Python 3"
    },
    "language_info": {
      "name": "python"
    },
    "accelerator": "GPU"
  },
  "cells": [
    {
      "cell_type": "markdown",
      "metadata": {
        "id": "view-in-github",
        "colab_type": "text"
      },
      "source": [
        "<a href=\"https://colab.research.google.com/github/Soggeum/20242R0136COSE47402/blob/master/FinalProject/final_project.ipynb\" target=\"_parent\"><img src=\"https://colab.research.google.com/assets/colab-badge.svg\" alt=\"Open In Colab\"/></a>"
      ]
    },
    {
      "cell_type": "markdown",
      "source": [
        "# Install Gymnasium"
      ],
      "metadata": {
        "id": "cnSX2y7YvHLP"
      }
    },
    {
      "cell_type": "code",
      "execution_count": null,
      "metadata": {
        "colab": {
          "base_uri": "https://localhost:8080/"
        },
        "collapsed": true,
        "id": "Bfv9x8nou6fm",
        "outputId": "b28ca077-5209-4f21-a51e-79247f446791"
      },
      "outputs": [
        {
          "output_type": "stream",
          "name": "stdout",
          "text": [
            "Reading package lists... Done\n",
            "Building dependency tree... Done\n",
            "Reading state information... Done\n",
            "The following additional packages will be installed:\n",
            "  swig4.0\n",
            "Suggested packages:\n",
            "  swig-doc swig-examples swig4.0-examples swig4.0-doc\n",
            "The following NEW packages will be installed:\n",
            "  swig swig4.0\n",
            "0 upgraded, 2 newly installed, 0 to remove and 49 not upgraded.\n",
            "Need to get 1,116 kB of archives.\n",
            "After this operation, 5,542 kB of additional disk space will be used.\n",
            "Get:1 http://archive.ubuntu.com/ubuntu jammy/universe amd64 swig4.0 amd64 4.0.2-1ubuntu1 [1,110 kB]\n",
            "Get:2 http://archive.ubuntu.com/ubuntu jammy/universe amd64 swig all 4.0.2-1ubuntu1 [5,632 B]\n",
            "Fetched 1,116 kB in 2s (729 kB/s)\n",
            "debconf: unable to initialize frontend: Dialog\n",
            "debconf: (No usable dialog-like program is installed, so the dialog based frontend cannot be used. at /usr/share/perl5/Debconf/FrontEnd/Dialog.pm line 78, <> line 2.)\n",
            "debconf: falling back to frontend: Readline\n",
            "debconf: unable to initialize frontend: Readline\n",
            "debconf: (This frontend requires a controlling tty.)\n",
            "debconf: falling back to frontend: Teletype\n",
            "dpkg-preconfigure: unable to re-open stdin: \n",
            "Selecting previously unselected package swig4.0.\n",
            "(Reading database ... 123632 files and directories currently installed.)\n",
            "Preparing to unpack .../swig4.0_4.0.2-1ubuntu1_amd64.deb ...\n",
            "Unpacking swig4.0 (4.0.2-1ubuntu1) ...\n",
            "Selecting previously unselected package swig.\n",
            "Preparing to unpack .../swig_4.0.2-1ubuntu1_all.deb ...\n",
            "Unpacking swig (4.0.2-1ubuntu1) ...\n",
            "Setting up swig4.0 (4.0.2-1ubuntu1) ...\n",
            "Setting up swig (4.0.2-1ubuntu1) ...\n",
            "Processing triggers for man-db (2.10.2-1) ...\n",
            "Collecting box2d\n",
            "  Downloading Box2D-2.3.10-cp310-cp310-manylinux_2_17_x86_64.manylinux2014_x86_64.whl.metadata (573 bytes)\n",
            "Collecting gymnasium[box2d]\n",
            "  Downloading gymnasium-1.0.0-py3-none-any.whl.metadata (9.5 kB)\n",
            "Requirement already satisfied: numpy>=1.21.0 in /usr/local/lib/python3.10/dist-packages (from gymnasium[box2d]) (1.26.4)\n",
            "Requirement already satisfied: cloudpickle>=1.2.0 in /usr/local/lib/python3.10/dist-packages (from gymnasium[box2d]) (3.1.0)\n",
            "Requirement already satisfied: typing-extensions>=4.3.0 in /usr/local/lib/python3.10/dist-packages (from gymnasium[box2d]) (4.12.2)\n",
            "Collecting farama-notifications>=0.0.1 (from gymnasium[box2d])\n",
            "  Downloading Farama_Notifications-0.0.4-py3-none-any.whl.metadata (558 bytes)\n",
            "Collecting box2d-py==2.3.5 (from gymnasium[box2d])\n",
            "  Downloading box2d-py-2.3.5.tar.gz (374 kB)\n",
            "\u001b[2K     \u001b[90m━━━━━━━━━━━━━━━━━━━━━━━━━━━━━━━━━━━━━━━━\u001b[0m \u001b[32m374.4/374.4 kB\u001b[0m \u001b[31m7.3 MB/s\u001b[0m eta \u001b[36m0:00:00\u001b[0m\n",
            "\u001b[?25h  Preparing metadata (setup.py) ... \u001b[?25l\u001b[?25hdone\n",
            "Requirement already satisfied: pygame>=2.1.3 in /usr/local/lib/python3.10/dist-packages (from gymnasium[box2d]) (2.6.1)\n",
            "Collecting swig==4.* (from gymnasium[box2d])\n",
            "  Downloading swig-4.3.0-py2.py3-none-manylinux_2_5_x86_64.manylinux1_x86_64.whl.metadata (3.5 kB)\n",
            "Downloading Box2D-2.3.10-cp310-cp310-manylinux_2_17_x86_64.manylinux2014_x86_64.whl (3.7 MB)\n",
            "\u001b[2K   \u001b[90m━━━━━━━━━━━━━━━━━━━━━━━━━━━━━━━━━━━━━━━━\u001b[0m \u001b[32m3.7/3.7 MB\u001b[0m \u001b[31m60.7 MB/s\u001b[0m eta \u001b[36m0:00:00\u001b[0m\n",
            "\u001b[?25hDownloading swig-4.3.0-py2.py3-none-manylinux_2_5_x86_64.manylinux1_x86_64.whl (1.9 MB)\n",
            "\u001b[2K   \u001b[90m━━━━━━━━━━━━━━━━━━━━━━━━━━━━━━━━━━━━━━━━\u001b[0m \u001b[32m1.9/1.9 MB\u001b[0m \u001b[31m51.0 MB/s\u001b[0m eta \u001b[36m0:00:00\u001b[0m\n",
            "\u001b[?25hDownloading Farama_Notifications-0.0.4-py3-none-any.whl (2.5 kB)\n",
            "Downloading gymnasium-1.0.0-py3-none-any.whl (958 kB)\n",
            "\u001b[2K   \u001b[90m━━━━━━━━━━━━━━━━━━━━━━━━━━━━━━━━━━━━━━━━\u001b[0m \u001b[32m958.1/958.1 kB\u001b[0m \u001b[31m47.7 MB/s\u001b[0m eta \u001b[36m0:00:00\u001b[0m\n",
            "\u001b[?25hBuilding wheels for collected packages: box2d-py\n",
            "  Building wheel for box2d-py (setup.py) ... \u001b[?25l\u001b[?25hdone\n",
            "  Created wheel for box2d-py: filename=box2d_py-2.3.5-cp310-cp310-linux_x86_64.whl size=2349117 sha256=07b2cb3101d74064aef77ca891c1c8455482bb72e47e0d0224cd4e6e7a580be5\n",
            "  Stored in directory: /root/.cache/pip/wheels/db/8f/6a/eaaadf056fba10a98d986f6dce954e6201ba3126926fc5ad9e\n",
            "Successfully built box2d-py\n",
            "Installing collected packages: swig, farama-notifications, box2d-py, box2d, gymnasium\n",
            "Successfully installed box2d-2.3.10 box2d-py-2.3.5 farama-notifications-0.0.4 gymnasium-1.0.0 swig-4.3.0\n"
          ]
        }
      ],
      "source": [
        "!sudo apt-get install swig  # swig 설치\n",
        "!pip install box2d gymnasium[box2d]"
      ]
    },
    {
      "cell_type": "markdown",
      "source": [
        "# Lunar Lander Environment Initialization"
      ],
      "metadata": {
        "id": "cDuX7znxvzcI"
      }
    },
    {
      "cell_type": "code",
      "source": [
        "import gymnasium as gym\n",
        "\n",
        "env = gym.make(\"LunarLander-v3\", render_mode=\"human\")\n",
        "observation, info = env.reset()\n",
        "\n",
        "episode_over = False\n",
        "while not episode_over:\n",
        "    action = env.action_space.sample()  # agent policy that uses the observation and info\n",
        "    observation, reward, terminated, truncated, info = env.step(action)\n",
        "\n",
        "    episode_over = terminated or truncated\n",
        "\n",
        "env.close()"
      ],
      "metadata": {
        "id": "iTElyD59vLoh"
      },
      "execution_count": null,
      "outputs": []
    },
    {
      "cell_type": "markdown",
      "source": [
        "# Test"
      ],
      "metadata": {
        "id": "FRu7wl5eINr4"
      }
    },
    {
      "cell_type": "code",
      "source": [
        "!git clone https://github.com/juliankappler/lunar-lander.git\n",
        "%cd lunar-lander"
      ],
      "metadata": {
        "colab": {
          "base_uri": "https://localhost:8080/"
        },
        "id": "ny_grr8RwA89",
        "outputId": "a024266c-c223-44ae-fd63-4a34fb81d235"
      },
      "execution_count": null,
      "outputs": [
        {
          "output_type": "stream",
          "name": "stdout",
          "text": [
            "Cloning into 'lunar-lander'...\n",
            "remote: Enumerating objects: 68, done.\u001b[K\n",
            "remote: Counting objects: 100% (68/68), done.\u001b[K\n",
            "remote: Compressing objects: 100% (58/58), done.\u001b[K\n",
            "remote: Total 68 (delta 35), reused 30 (delta 10), pack-reused 0 (from 0)\u001b[K\n",
            "Receiving objects: 100% (68/68), 1.44 MiB | 16.95 MiB/s, done.\n",
            "Resolving deltas: 100% (35/35), done.\n",
            "/content/lunar-lander\n"
          ]
        }
      ]
    },
    {
      "cell_type": "markdown",
      "source": [
        "# DQN"
      ],
      "metadata": {
        "id": "f2GZ6i6K-smj"
      }
    },
    {
      "cell_type": "markdown",
      "source": [
        "## Google Drive 연결"
      ],
      "metadata": {
        "id": "Jax9oNlf_CHA"
      }
    },
    {
      "cell_type": "code",
      "source": [
        "from google.colab import drive\n",
        "drive.mount('/content/drive')"
      ],
      "metadata": {
        "id": "BdN1dO5JIfQi",
        "colab": {
          "base_uri": "https://localhost:8080/"
        },
        "outputId": "2a71acc0-5bf1-4677-d941-6ec996dc63a2"
      },
      "execution_count": null,
      "outputs": [
        {
          "output_type": "stream",
          "name": "stdout",
          "text": [
            "Mounted at /content/drive\n"
          ]
        }
      ]
    },
    {
      "cell_type": "markdown",
      "source": [
        "## Git 설치"
      ],
      "metadata": {
        "id": "W4a-jLbl_Em6"
      }
    },
    {
      "cell_type": "code",
      "source": [
        "!apt-get install git"
      ],
      "metadata": {
        "colab": {
          "base_uri": "https://localhost:8080/"
        },
        "id": "PORXEmtN-wsr",
        "outputId": "0bc8ab04-b2f0-4e46-a11d-421b857adffe"
      },
      "execution_count": null,
      "outputs": [
        {
          "output_type": "stream",
          "name": "stdout",
          "text": [
            "Reading package lists... Done\n",
            "Building dependency tree... Done\n",
            "Reading state information... Done\n",
            "git is already the newest version (1:2.34.1-1ubuntu1.11).\n",
            "0 upgraded, 0 newly installed, 0 to remove and 49 not upgraded.\n"
          ]
        }
      ]
    },
    {
      "cell_type": "markdown",
      "source": [
        "## 레포지토리 복제"
      ],
      "metadata": {
        "id": "me-8M5n6_LRX"
      }
    },
    {
      "cell_type": "code",
      "source": [
        "!git clone https://github.com/juliankappler/lunar-lander.git"
      ],
      "metadata": {
        "colab": {
          "base_uri": "https://localhost:8080/"
        },
        "id": "wvUFN5i0_GN-",
        "outputId": "8a55cae3-aa4e-4b51-a4e6-109c226d7452"
      },
      "execution_count": null,
      "outputs": [
        {
          "output_type": "stream",
          "name": "stdout",
          "text": [
            "Cloning into 'lunar-lander'...\n",
            "remote: Enumerating objects: 68, done.\u001b[K\n",
            "remote: Counting objects: 100% (68/68), done.\u001b[K\n",
            "remote: Compressing objects: 100% (58/58), done.\u001b[K\n",
            "remote: Total 68 (delta 35), reused 30 (delta 10), pack-reused 0 (from 0)\u001b[K\n",
            "Receiving objects: 100% (68/68), 1.44 MiB | 20.21 MiB/s, done.\n",
            "Resolving deltas: 100% (35/35), done.\n"
          ]
        }
      ]
    },
    {
      "cell_type": "markdown",
      "source": [
        "## 필요한 library 설치"
      ],
      "metadata": {
        "id": "XYHhjFkOBNBZ"
      }
    },
    {
      "cell_type": "code",
      "source": [
        "pip install gymnasium numpy matplotlib stable-baselines3 torch torchvision pandas scipy tqdm seaborn Box2D"
      ],
      "metadata": {
        "colab": {
          "base_uri": "https://localhost:8080/"
        },
        "id": "tfRH6_FR_Okk",
        "outputId": "b30f5e82-b966-4f7d-b158-15a8ebce41e8",
        "collapsed": true
      },
      "execution_count": null,
      "outputs": [
        {
          "output_type": "stream",
          "name": "stdout",
          "text": [
            "Requirement already satisfied: gymnasium in /usr/local/lib/python3.10/dist-packages (1.0.0)\n",
            "Requirement already satisfied: numpy in /usr/local/lib/python3.10/dist-packages (1.26.4)\n",
            "Requirement already satisfied: matplotlib in /usr/local/lib/python3.10/dist-packages (3.8.0)\n",
            "Collecting stable-baselines3\n",
            "  Downloading stable_baselines3-2.4.0-py3-none-any.whl.metadata (4.5 kB)\n",
            "Requirement already satisfied: torch in /usr/local/lib/python3.10/dist-packages (2.5.1+cu121)\n",
            "Requirement already satisfied: torchvision in /usr/local/lib/python3.10/dist-packages (0.20.1+cu121)\n",
            "Requirement already satisfied: pandas in /usr/local/lib/python3.10/dist-packages (2.2.2)\n",
            "Requirement already satisfied: scipy in /usr/local/lib/python3.10/dist-packages (1.13.1)\n",
            "Requirement already satisfied: tqdm in /usr/local/lib/python3.10/dist-packages (4.66.6)\n",
            "Requirement already satisfied: seaborn in /usr/local/lib/python3.10/dist-packages (0.13.2)\n",
            "Requirement already satisfied: Box2D in /usr/local/lib/python3.10/dist-packages (2.3.10)\n",
            "Requirement already satisfied: cloudpickle>=1.2.0 in /usr/local/lib/python3.10/dist-packages (from gymnasium) (3.1.0)\n",
            "Requirement already satisfied: typing-extensions>=4.3.0 in /usr/local/lib/python3.10/dist-packages (from gymnasium) (4.12.2)\n",
            "Requirement already satisfied: farama-notifications>=0.0.1 in /usr/local/lib/python3.10/dist-packages (from gymnasium) (0.0.4)\n",
            "Requirement already satisfied: contourpy>=1.0.1 in /usr/local/lib/python3.10/dist-packages (from matplotlib) (1.3.1)\n",
            "Requirement already satisfied: cycler>=0.10 in /usr/local/lib/python3.10/dist-packages (from matplotlib) (0.12.1)\n",
            "Requirement already satisfied: fonttools>=4.22.0 in /usr/local/lib/python3.10/dist-packages (from matplotlib) (4.55.0)\n",
            "Requirement already satisfied: kiwisolver>=1.0.1 in /usr/local/lib/python3.10/dist-packages (from matplotlib) (1.4.7)\n",
            "Requirement already satisfied: packaging>=20.0 in /usr/local/lib/python3.10/dist-packages (from matplotlib) (24.2)\n",
            "Requirement already satisfied: pillow>=6.2.0 in /usr/local/lib/python3.10/dist-packages (from matplotlib) (11.0.0)\n",
            "Requirement already satisfied: pyparsing>=2.3.1 in /usr/local/lib/python3.10/dist-packages (from matplotlib) (3.2.0)\n",
            "Requirement already satisfied: python-dateutil>=2.7 in /usr/local/lib/python3.10/dist-packages (from matplotlib) (2.8.2)\n",
            "Requirement already satisfied: filelock in /usr/local/lib/python3.10/dist-packages (from torch) (3.16.1)\n",
            "Requirement already satisfied: networkx in /usr/local/lib/python3.10/dist-packages (from torch) (3.4.2)\n",
            "Requirement already satisfied: jinja2 in /usr/local/lib/python3.10/dist-packages (from torch) (3.1.4)\n",
            "Requirement already satisfied: fsspec in /usr/local/lib/python3.10/dist-packages (from torch) (2024.10.0)\n",
            "Requirement already satisfied: sympy==1.13.1 in /usr/local/lib/python3.10/dist-packages (from torch) (1.13.1)\n",
            "Requirement already satisfied: mpmath<1.4,>=1.1.0 in /usr/local/lib/python3.10/dist-packages (from sympy==1.13.1->torch) (1.3.0)\n",
            "Requirement already satisfied: pytz>=2020.1 in /usr/local/lib/python3.10/dist-packages (from pandas) (2024.2)\n",
            "Requirement already satisfied: tzdata>=2022.7 in /usr/local/lib/python3.10/dist-packages (from pandas) (2024.2)\n",
            "Requirement already satisfied: six>=1.5 in /usr/local/lib/python3.10/dist-packages (from python-dateutil>=2.7->matplotlib) (1.16.0)\n",
            "Requirement already satisfied: MarkupSafe>=2.0 in /usr/local/lib/python3.10/dist-packages (from jinja2->torch) (3.0.2)\n",
            "Downloading stable_baselines3-2.4.0-py3-none-any.whl (183 kB)\n",
            "\u001b[2K   \u001b[90m━━━━━━━━━━━━━━━━━━━━━━━━━━━━━━━━━━━━━━━━\u001b[0m \u001b[32m183.9/183.9 kB\u001b[0m \u001b[31m4.2 MB/s\u001b[0m eta \u001b[36m0:00:00\u001b[0m\n",
            "\u001b[?25hInstalling collected packages: stable-baselines3\n",
            "Successfully installed stable-baselines3-2.4.0\n"
          ]
        }
      ]
    },
    {
      "cell_type": "markdown",
      "source": [
        "# train and visualize agent.ipynb"
      ],
      "metadata": {
        "id": "u2yqsDdTHD6i"
      }
    },
    {
      "cell_type": "code",
      "execution_count": null,
      "metadata": {
        "ExecuteTime": {
          "end_time": "2022-04-10T14:32:59.033411Z",
          "start_time": "2022-04-10T14:32:59.027144Z"
        },
        "id": "c39d63b5"
      },
      "outputs": [],
      "source": [
        "import gymnasium as gym\n",
        "import pygame\n",
        "import numpy as np\n",
        "import matplotlib.pyplot as plt\n",
        "import itertools"
      ]
    },
    {
      "cell_type": "code",
      "execution_count": null,
      "metadata": {
        "ExecuteTime": {
          "end_time": "2022-04-10T14:32:59.070429Z",
          "start_time": "2022-04-10T14:32:59.057719Z"
        },
        "id": "7652d398"
      },
      "outputs": [],
      "source": [
        "import agent_class as agent"
      ]
    },
    {
      "cell_type": "markdown",
      "metadata": {
        "id": "7a8abf93"
      },
      "source": [
        "## Initialize environment and agent"
      ]
    },
    {
      "cell_type": "code",
      "execution_count": null,
      "metadata": {
        "id": "72227848",
        "outputId": "bee5ef4f-3a9d-47d4-f5b1-c30814a2e67c",
        "colab": {
          "base_uri": "https://localhost:8080/"
        }
      },
      "outputs": [
        {
          "output_type": "stream",
          "name": "stdout",
          "text": [
            "dimension of state space = 8\n",
            "number of actions = 4\n"
          ]
        }
      ],
      "source": [
        "# We first create the environment on which we will later train the agent\n",
        "env = gym.make('LunarLander-v3')\n",
        "\n",
        "# We need to know the dimensionality of the state space, as well as how many\n",
        "# actions are possible\n",
        "N_actions = env.action_space.n\n",
        "observation, info = env.reset()\n",
        "N_state = len(observation)\n",
        "\n",
        "print('dimension of state space =',N_state)\n",
        "print('number of actions =',N_actions)"
      ]
    },
    {
      "cell_type": "code",
      "execution_count": null,
      "metadata": {
        "id": "582229b0"
      },
      "outputs": [],
      "source": [
        "# We create an instance of the agent class.\n",
        "# At initialization, we need to provide\n",
        "# - the dimensionality of the state space, as well as\n",
        "# - the number of possible actions\n",
        "\n",
        "parameters = {'N_state':N_state, 'N_actions':N_actions}\n",
        "\n",
        "my_agent = agent.dqn(parameters=parameters)\n",
        "# to train via the actor-critic algorithm, use this line:\n",
        "# my_agent = agent.actor_critic(parameters=parameters)"
      ]
    },
    {
      "cell_type": "markdown",
      "metadata": {
        "id": "d20d0162"
      },
      "source": [
        "## Train agent"
      ]
    },
    {
      "cell_type": "code",
      "execution_count": null,
      "metadata": {
        "id": "0056479b",
        "outputId": "fa0dc6ab-dbd3-4f29-fdee-c6adb9ee96f3",
        "colab": {
          "base_uri": "https://localhost:8080/"
        }
      },
      "outputs": [
        {
          "output_type": "stream",
          "name": "stdout",
          "text": [
            "| episode | return          | minimal return      | mean return        |\n",
            "|         | (this episode)  | (last 20 episodes)  | (last 20 episodes) |\n",
            "|-----------------------------------------------------------------------\n",
            "|     100 |     -322.738    |       -396.405      |      -152.051      |\n",
            "|     200 |      -90.368    |       -198.546      |       -97.200      |\n",
            "|     300 |      -67.049    |       -227.033      |       -69.871      |\n",
            "|     400 |      -21.622    |       -172.480      |       -57.755      |\n",
            "|     500 |      166.302    |       -143.933      |        -2.275      |\n",
            "|     600 |     -108.638    |       -141.939      |        39.268      |\n",
            "|     700 |       84.535    |       -118.907      |        72.633      |\n",
            "|     800 |      245.135    |       -146.110      |       194.787      |\n",
            "|     900 |      121.207    |        -48.563      |       189.955      |\n",
            "|    1000 |      286.871    |        100.435      |       201.986      |\n",
            "|    1100 |      268.901    |        -76.101      |       202.542      |\n",
            "|    1200 |       12.146    |       -131.059      |       102.860      |\n",
            "|    1300 |       46.130    |       -361.877      |       137.135      |\n",
            "|    1390 |      258.944    |        200.414      |       259.680      |\n"
          ]
        }
      ],
      "source": [
        "# We train the agent on the LunarLander-v2 environment.\n",
        "# Setting verbose=True allows us to follow the progress of the training\n",
        "\n",
        "training_results = my_agent.train(environment=env,\n",
        "                                verbose=True)"
      ]
    },
    {
      "cell_type": "code",
      "execution_count": null,
      "metadata": {
        "id": "a9f5a432",
        "outputId": "d305585e-8a0d-49a1-9221-61c12587db65",
        "colab": {
          "base_uri": "https://localhost:8080/"
        }
      },
      "outputs": [
        {
          "output_type": "execute_result",
          "data": {
            "text/plain": [
              "dict_keys(['episode_durations', 'epsiode_returns', 'n_training_epochs', 'n_steps_simulated', 'training_completed'])"
            ]
          },
          "metadata": {},
          "execution_count": 15
        }
      ],
      "source": [
        "# the method my_agent.train() from the previous cell returns a dictionary\n",
        "# with training stats, namely:\n",
        "# - duration of each episode during training,\n",
        "# - return of each episode during training\n",
        "# - the total number of training epochs at the end of each episode\n",
        "# - the total number of steps simulated at the end of each episode\n",
        "\n",
        "training_results.keys()"
      ]
    },
    {
      "cell_type": "markdown",
      "metadata": {
        "id": "7a56a744"
      },
      "source": [
        "## Plot training stats"
      ]
    },
    {
      "cell_type": "code",
      "execution_count": null,
      "metadata": {
        "id": "f3258458",
        "outputId": "135887c6-895b-4f0e-cc52-4a9159ffe18b",
        "colab": {
          "base_uri": "https://localhost:8080/",
          "height": 696
        }
      },
      "outputs": [
        {
          "output_type": "display_data",
          "data": {
            "text/plain": [
              "<Figure size 500x800 with 2 Axes>"
            ],
            "image/png": "[encoded data removed]"
          },
          "metadata": {}
        }
      ],
      "source": [
        "# Plot both the return per episode and the duration per episode during\n",
        "# training, together with their running average over 20 consecutive episodes\n",
        "\n",
        "N = 20 # number of episodes for running average\n",
        "\n",
        "def running_mean(x,N=20):\n",
        "        x_out = np.zeros(len(x)-N,dtype=float)\n",
        "        for i in range(len(x)-N):\n",
        "                x_out[i] = np.mean(x[i:i+N+1])\n",
        "        return x_out\n",
        "\n",
        "def plot_returns_and_durations(training_results,filename=None):\n",
        "    fig,axes = plt.subplots(2,1,figsize=(5,8))\n",
        "    fig.subplots_adjust(hspace=0.0001)\n",
        "    #\n",
        "    # return as a function of episode\n",
        "    ax = axes[0]\n",
        "    x = training_results['epsiode_returns']\n",
        "    t = np.arange(len(x)) + 1\n",
        "    #\n",
        "    ax.plot(t,x,label='training',color='dodgerblue',)\n",
        "    # add running mean\n",
        "    x = running_mean(x=x,N=N)\n",
        "    t = np.arange(len(x)) + N\n",
        "    ax.plot(t,x,color='black',label='running mean')\n",
        "    #\n",
        "    ax.axhline(230,ls='--',\n",
        "               label='230',\n",
        "                        color='red')\n",
        "    #\n",
        "    ax.set_ylim(-499,350)\n",
        "    ax.set_xticks([])\n",
        "    ax.set_xlim(0,len(t)+100)\n",
        "    ax.set_xlabel(r'episode')\n",
        "    ax.set_ylabel(r'return')\n",
        "    #\n",
        "    #\n",
        "    ax = axes[1]\n",
        "    x = training_results['episode_durations']\n",
        "    t = np.arange(len(x)) + 1\n",
        "    #\n",
        "    ax.plot(t,x,label='training',color='dodgerblue',)\n",
        "    # add running mean\n",
        "    x = running_mean(x=x,N=N)\n",
        "    t = np.arange(len(x)) + N\n",
        "    ax.plot(t,x,color='black',label='running mean')\n",
        "    #\n",
        "    ax.axhline(1200,ls='--', # draw line outside of plot scale,\n",
        "                label='230', # to get the red dotted line into the legend\n",
        "                        color='red')\n",
        "    #\n",
        "    ax.set_ylim(0,1100)\n",
        "    ax.set_xlim(0,len(t)+100)\n",
        "    ax.set_xlabel(r'episode')\n",
        "    ax.set_ylabel(r'duration')\n",
        "    ax.legend(loc='upper right',bbox_to_anchor=(1.,1.35),\n",
        "                                framealpha=0.95,\n",
        "                        fontsize=18)\n",
        "    #\n",
        "    plt.show()\n",
        "    if filename != None:\n",
        "        fig.savefig(filename,bbox_inches='tight')\n",
        "    plt.close(fig)\n",
        "\n",
        "plot_returns_and_durations(training_results=training_results)"
      ]
    },
    {
      "cell_type": "markdown",
      "metadata": {
        "id": "900a1245"
      },
      "source": [
        "## Create gameplay video using trained agent\n",
        "\n",
        "First we create a \"live\" video that pops up and shows Lunar Lander gameplay performed by the agent"
      ]
    },
    {
      "cell_type": "code",
      "execution_count": null,
      "metadata": {
        "id": "f6140542"
      },
      "outputs": [],
      "source": [
        "# There is the issue that the game window freezes when running gym games\n",
        "# in jupyter notebooks, see https://github.com/openai/gym/issues/2433\n",
        "# We here use the fix from that website, which is to use the following\n",
        "# wrapper class:\n",
        "class PyGameWrapper(gym.Wrapper):\n",
        "    def render(self, **kwargs):\n",
        "        retval = self.env.render( **kwargs)\n",
        "        for event in pygame.event.get():\n",
        "            pass\n",
        "        return retval"
      ]
    },
    {
      "cell_type": "code",
      "execution_count": null,
      "metadata": {
        "ExecuteTime": {
          "end_time": "2022-04-10T14:32:59.104279Z",
          "start_time": "2022-04-10T14:32:59.096125Z"
        },
        "id": "bcf9e4b2",
        "outputId": "e20fbd94-377f-48a0-b3e8-0aa401a13b03",
        "colab": {
          "base_uri": "https://localhost:8080/"
        }
      },
      "outputs": [
        {
          "output_type": "stream",
          "name": "stdout",
          "text": [
            "Run 1: duration = 233, total return = 272.992\n",
            "Run 2: duration = 225, total return = 266.386\n",
            "Run 3: duration = 252, total return = 276.862\n",
            "Run 4: duration = 299, total return = 288.977\n",
            "Run 5: duration = 235, total return = 234.496\n",
            "Run 6: duration = 232, total return = 269.240\n",
            "Run 7: duration = 305, total return = 285.769\n",
            "Run 8: duration = 296, total return = 283.943\n",
            "Run 9: duration = 253, total return = 276.154\n",
            "Run 10: duration = 251, total return = 269.303\n",
            "Run 11: duration = 276, total return = 246.844\n",
            "Run 12: duration = 242, total return = 248.106\n",
            "Run 13: duration = 250, total return = 229.652\n",
            "Run 14: duration = 306, total return = 231.012\n",
            "Run 15: duration = 291, total return = 275.736\n",
            "Run 16: duration = 302, total return = 299.510\n",
            "Run 17: duration = 255, total return = 259.259\n",
            "Run 18: duration = 326, total return = 285.116\n",
            "Run 19: duration = 295, total return = 274.316\n",
            "Run 20: duration = 252, total return = 258.943\n"
          ]
        }
      ],
      "source": [
        "# Create a wrapped environment\n",
        "env = PyGameWrapper(gym.make('LunarLander-v3',render_mode='human'))\n",
        "\n",
        "N_episodes = 20\n",
        "\n",
        "result_string = 'Run {0}: duration = {1}, total return = {2:7.3f}'\n",
        "\n",
        "for j in range(N_episodes):\n",
        "    state, info = env.reset()\n",
        "\n",
        "    total_reward = 0\n",
        "    for i in itertools.count():\n",
        "        #env.render()\n",
        "\n",
        "        action = my_agent.act(state)\n",
        "        state, reward, terminated, truncated, info = env.step(action)\n",
        "        done = terminated or truncated\n",
        "        total_reward += reward\n",
        "\n",
        "        if done:\n",
        "            print(result_string.format(j+1,i+1,total_reward))\n",
        "            break\n",
        "\n",
        "env.close()"
      ]
    },
    {
      "cell_type": "markdown",
      "metadata": {
        "id": "09d4b344"
      },
      "source": [
        "We also create a video file containing 20 games played by the agent"
      ]
    },
    {
      "cell_type": "code",
      "execution_count": null,
      "metadata": {
        "id": "cacd02f7",
        "outputId": "45f5f623-7edc-42b2-8110-ece3114dd832",
        "colab": {
          "base_uri": "https://localhost:8080/",
          "height": 219
        }
      },
      "outputs": [
        {
          "output_type": "error",
          "ename": "AttributeError",
          "evalue": "'RecordVideo' object has no attribute 'capture_frame'",
          "traceback": [
            "\u001b[0;31m---------------------------------------------------------------------------\u001b[0m",
            "\u001b[0;31mAttributeError\u001b[0m                            Traceback (most recent call last)",
            "\u001b[0;32m<ipython-input-27-eb0a3c3bf6db>\u001b[0m in \u001b[0;36m<cell line: 10>\u001b[0;34m()\u001b[0m\n\u001b[1;32m     13\u001b[0m     \u001b[0mtotal_reward\u001b[0m \u001b[0;34m=\u001b[0m \u001b[0;36m0\u001b[0m\u001b[0;34m\u001b[0m\u001b[0;34m\u001b[0m\u001b[0m\n\u001b[1;32m     14\u001b[0m     \u001b[0;32mfor\u001b[0m \u001b[0mi\u001b[0m \u001b[0;32min\u001b[0m \u001b[0mitertools\u001b[0m\u001b[0;34m.\u001b[0m\u001b[0mcount\u001b[0m\u001b[0;34m(\u001b[0m\u001b[0;34m)\u001b[0m\u001b[0;34m:\u001b[0m\u001b[0;34m\u001b[0m\u001b[0;34m\u001b[0m\u001b[0m\n\u001b[0;32m---> 15\u001b[0;31m         \u001b[0mvideo\u001b[0m\u001b[0;34m.\u001b[0m\u001b[0mcapture_frame\u001b[0m\u001b[0;34m(\u001b[0m\u001b[0;34m)\u001b[0m\u001b[0;34m\u001b[0m\u001b[0;34m\u001b[0m\u001b[0m\n\u001b[0m\u001b[1;32m     16\u001b[0m \u001b[0;34m\u001b[0m\u001b[0m\n\u001b[1;32m     17\u001b[0m         \u001b[0maction\u001b[0m \u001b[0;34m=\u001b[0m \u001b[0mmy_agent\u001b[0m\u001b[0;34m.\u001b[0m\u001b[0mact\u001b[0m\u001b[0;34m(\u001b[0m\u001b[0mstate\u001b[0m\u001b[0;34m)\u001b[0m\u001b[0;34m\u001b[0m\u001b[0;34m\u001b[0m\u001b[0m\n",
            "\u001b[0;31mAttributeError\u001b[0m: 'RecordVideo' object has no attribute 'capture_frame'"
          ]
        }
      ],
      "source": [
        "from gymnasium.wrappers import RecordEpisodeStatistics, RecordVideo\n",
        "\n",
        "env = gym.make('LunarLander-v3', render_mode=\"rgb_array\")\n",
        "video = RecordVideo(env, './my_video.mp4'.format())\n",
        "\n",
        "N_episodes = 20\n",
        "\n",
        "result_string = 'Run {0}: duration = {1}, total return = {2:7.3f}'\n",
        "\n",
        "for j in range(N_episodes):\n",
        "    state, info = env.reset()\n",
        "\n",
        "    total_reward = 0\n",
        "    for i in itertools.count():\n",
        "        video.capture_frame()\n",
        "\n",
        "        action = my_agent.act(state)\n",
        "        state, reward, terminated, truncated, info = env.step(action)\n",
        "        done = terminated or truncated\n",
        "        total_reward += reward\n",
        "\n",
        "        if done:\n",
        "            print(result_string.format(j+1,i+1,total_reward))\n",
        "            break\n",
        "\n",
        "video.close()\n",
        "env.close()"
      ]
    },
    {
      "cell_type": "code",
      "source": [
        "import gymnasium as gym\n",
        "from gymnasium.wrappers import RecordEpisodeStatistics, RecordVideo\n",
        "\n",
        "num_eval_episodes = 20\n",
        "\n",
        "env = gym.make(\"LunarLander-v3\", render_mode=\"rgb_array\")  # replace with your environment\n",
        "env = RecordVideo(env, video_folder=\"my_video\", name_prefix=\"eval\",\n",
        "                  episode_trigger=lambda x: True)\n",
        "\n",
        "env = RecordEpisodeStatistics(env, buffer_length=num_eval_episodes)\n",
        "\n",
        "for episode_num in range(num_eval_episodes):\n",
        "    obs, info = env.reset()\n",
        "\n",
        "    episode_over = False\n",
        "    while not episode_over:\n",
        "        action = my_agent.act(state)\n",
        "        #action = env.action_space.sample()  # replace with actual agent\n",
        "        obs, reward, terminated, truncated, info = env.step(action)\n",
        "\n",
        "        episode_over = terminated or truncated\n",
        "env.close()\n",
        "\n",
        "print(f'Episode time taken: {env.time_queue}')\n",
        "print(f'Episode total rewards: {env.return_queue}')\n",
        "print(f'Episode lengths: {env.length_queue}')"
      ],
      "metadata": {
        "colab": {
          "base_uri": "https://localhost:8080/"
        },
        "id": "CU-e5S185jyB",
        "outputId": "3de8ce9b-498e-446c-8494-830ea6b9057a"
      },
      "execution_count": null,
      "outputs": [
        {
          "output_type": "stream",
          "name": "stdout",
          "text": [
            "Episode time taken: deque([0.186139, 0.247442, 0.21668, 0.248991, 0.266838, 0.275488, 0.19907, 0.206992, 0.178439, 0.218499, 0.207569, 0.271494, 0.186909, 0.19305, 0.26819, 0.243772, 0.254812, 0.286942, 0.285244, 0.360474], maxlen=20)\n",
            "Episode total rewards: deque([-127.68588325778998, -162.6850875519665, -182.6765934386924, -167.37877429238716, -175.9704308527701, -153.72913122326395, -118.267433206524, -126.43312982533291, -104.3874905469489, -166.43522058218613, -143.81419767556687, -129.3875151366948, -155.0110349730276, -170.52381362085916, -157.31537246664158, -142.77565002625636, -134.1170855640746, -120.95443198690273, -133.05272809293325, -180.08326203171833], maxlen=20)\n",
            "Episode lengths: deque([61, 76, 70, 78, 89, 92, 65, 69, 59, 68, 68, 86, 62, 62, 87, 73, 53, 64, 63, 79], maxlen=20)\n"
          ]
        }
      ]
    },
    {
      "cell_type": "code",
      "source": [],
      "metadata": {
        "id": "nRwYxbTu1dV5"
      },
      "execution_count": null,
      "outputs": []
    }
  ]
}