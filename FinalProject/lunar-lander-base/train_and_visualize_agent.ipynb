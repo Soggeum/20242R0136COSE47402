{
  "cells": [
    {
      "cell_type": "code",
      "execution_count": 7,
      "metadata": {
        "colab": {
          "base_uri": "https://localhost:8080/",
          "height": 0
        },
        "collapsed": true,
        "id": "Bfv9x8nou6fm",
        "outputId": "cdbca8a6-9792-4fd4-e555-2761d9f33daa"
      },
      "outputs": [
        {
          "output_type": "stream",
          "name": "stdout",
          "text": [
            "Reading package lists... Done\n",
            "Building dependency tree... Done\n",
            "Reading state information... Done\n",
            "swig is already the newest version (4.0.2-1ubuntu1).\n",
            "0 upgraded, 0 newly installed, 0 to remove and 49 not upgraded.\n",
            "Requirement already satisfied: box2d in /usr/local/lib/python3.10/dist-packages (2.3.10)\n",
            "Requirement already satisfied: gymnasium[box2d] in /usr/local/lib/python3.10/dist-packages (1.0.0)\n",
            "Requirement already satisfied: numpy>=1.21.0 in /usr/local/lib/python3.10/dist-packages (from gymnasium[box2d]) (1.26.4)\n",
            "Requirement already satisfied: cloudpickle>=1.2.0 in /usr/local/lib/python3.10/dist-packages (from gymnasium[box2d]) (3.1.0)\n",
            "Requirement already satisfied: typing-extensions>=4.3.0 in /usr/local/lib/python3.10/dist-packages (from gymnasium[box2d]) (4.12.2)\n",
            "Requirement already satisfied: farama-notifications>=0.0.1 in /usr/local/lib/python3.10/dist-packages (from gymnasium[box2d]) (0.0.4)\n",
            "Requirement already satisfied: box2d-py==2.3.5 in /usr/local/lib/python3.10/dist-packages (from gymnasium[box2d]) (2.3.5)\n",
            "Requirement already satisfied: pygame>=2.1.3 in /usr/local/lib/python3.10/dist-packages (from gymnasium[box2d]) (2.6.1)\n",
            "Requirement already satisfied: swig==4.* in /usr/local/lib/python3.10/dist-packages (from gymnasium[box2d]) (4.3.0)\n"
          ]
        }
      ],
      "source": [
        "!sudo apt-get install swig  # swig 설치\n",
        "!pip install box2d gymnasium[box2d]"
      ],
      "id": "Bfv9x8nou6fm"
    },
    {
      "cell_type": "code",
      "source": [
        "!git clone https://github.com/Soggeum/20242R0136COSE47402.git\n",
        "%cd 20242R0136COSE47402/FinalProject/lunar-lander"
      ],
      "metadata": {
        "colab": {
          "base_uri": "https://localhost:8080/"
        },
        "id": "PCVE9aYYIgXA",
        "outputId": "cb411210-7e25-44d6-a7fd-59feafe90f3c",
        "collapsed": true
      },
      "execution_count": null,
      "outputs": [
        {
          "output_type": "stream",
          "name": "stdout",
          "text": [
            "Cloning into '20242R0136COSE47402'...\n",
            "remote: Enumerating objects: 81, done.\u001b[K\n",
            "remote: Counting objects: 100% (81/81), done.\u001b[K\n",
            "remote: Compressing objects: 100% (64/64), done.\u001b[K\n",
            "remote: Total 81 (delta 22), reused 40 (delta 10), pack-reused 0 (from 0)\u001b[K\n",
            "Receiving objects: 100% (81/81), 15.20 MiB | 13.14 MiB/s, done.\n",
            "Resolving deltas: 100% (22/22), done.\n",
            "/content/20242R0136COSE47402/FinalProject/lunar-lander\n"
          ]
        }
      ],
      "id": "PCVE9aYYIgXA"
    },
    {
      "cell_type": "code",
      "execution_count": 8,
      "metadata": {
        "ExecuteTime": {
          "end_time": "2022-04-10T14:32:59.033411Z",
          "start_time": "2022-04-10T14:32:59.027144Z"
        },
        "id": "c39d63b5"
      },
      "outputs": [],
      "source": [
        "import gymnasium as gym\n",
        "import pygame\n",
        "import numpy as np\n",
        "import matplotlib.pyplot as plt\n",
        "import itertools"
      ],
      "id": "c39d63b5"
    },
    {
      "cell_type": "code",
      "execution_count": 9,
      "metadata": {
        "ExecuteTime": {
          "end_time": "2022-04-10T14:32:59.070429Z",
          "start_time": "2022-04-10T14:32:59.057719Z"
        },
        "id": "7652d398"
      },
      "outputs": [],
      "source": [
        "import agent_class as agent"
      ],
      "id": "7652d398"
    },
    {
      "cell_type": "markdown",
      "metadata": {
        "id": "7a8abf93"
      },
      "source": [
        "# Initialize environment and agent"
      ],
      "id": "7a8abf93"
    },
    {
      "cell_type": "code",
      "execution_count": 10,
      "metadata": {
        "id": "72227848",
        "outputId": "6b358cbe-0f91-4ae7-af34-568d34edaa65",
        "colab": {
          "base_uri": "https://localhost:8080/",
          "height": 0
        }
      },
      "outputs": [
        {
          "output_type": "stream",
          "name": "stdout",
          "text": [
            "dimension of state space = 8\n",
            "number of actions = 4\n"
          ]
        }
      ],
      "source": [
        "# We first create the environment on which we will later train the agent\n",
        "env = gym.make('LunarLander-v3')\n",
        "\n",
        "# We need to know the dimensionality of the state space, as well as how many\n",
        "# actions are possible\n",
        "N_actions = env.action_space.n\n",
        "observation, info = env.reset()\n",
        "N_state = len(observation)\n",
        "\n",
        "print('dimension of state space =',N_state)\n",
        "print('number of actions =',N_actions)"
      ],
      "id": "72227848"
    },
    {
      "cell_type": "code",
      "execution_count": 11,
      "metadata": {
        "id": "582229b0"
      },
      "outputs": [],
      "source": [
        "# We create an instance of the agent class.\n",
        "# At initialization, we need to provide\n",
        "# - the dimensionality of the state space, as well as\n",
        "# - the number of possible actions\n",
        "\n",
        "parameters = {'N_state':N_state, 'N_actions':N_actions}\n",
        "\n",
        "my_agent = agent.dqn(parameters=parameters)\n",
        "# to train via the actor-critic algorithm, use this line:\n",
        "# my_agent = agent.actor_critic(parameters=parameters)"
      ],
      "id": "582229b0"
    },
    {
      "cell_type": "markdown",
      "metadata": {
        "id": "d20d0162"
      },
      "source": [
        "# Train agent"
      ],
      "id": "d20d0162"
    },
    {
      "cell_type": "code",
      "execution_count": 12,
      "metadata": {
        "id": "0056479b",
        "outputId": "667a622d-5287-4381-f274-1746eac4d622",
        "colab": {
          "base_uri": "https://localhost:8080/",
          "height": 0
        }
      },
      "outputs": [
        {
          "output_type": "stream",
          "name": "stdout",
          "text": [
            "| episode | return          | minimal return      | mean return        |\n",
            "|         | (this episode)  | (last 20 episodes)  | (last 20 episodes) |\n",
            "|-----------------------------------------------------------------------\n",
            "|     100 |      -63.745    |       -333.606      |      -133.189      |\n",
            "|     200 |     -137.825    |       -247.144      |       -97.487      |\n",
            "|     300 |      -48.600    |       -399.012      |       -79.365      |\n",
            "|     400 |       64.748    |       -264.094      |       -57.653      |\n",
            "|     500 |      -11.198    |       -108.507      |        -5.500      |\n",
            "|     600 |      -50.319    |       -182.694      |        21.444      |\n",
            "|     700 |       92.862    |       -234.553      |       -12.551      |\n",
            "|     800 |      230.056    |        -98.974      |       178.076      |\n",
            "|     900 |      266.220    |         -7.204      |       208.497      |\n",
            "|    1000 |      244.970    |       -212.061      |       163.451      |\n",
            "|    1053 |      201.835    |        200.804      |       238.148      |\n"
          ]
        }
      ],
      "source": [
        "# We train the agent on the LunarLander-v3 environment.\n",
        "# Setting verbose=True allows us to follow the progress of the training\n",
        "\n",
        "training_results = my_agent.train(environment=env,\n",
        "                                verbose=True)"
      ],
      "id": "0056479b"
    },
    {
      "cell_type": "code",
      "execution_count": 13,
      "metadata": {
        "id": "a9f5a432",
        "outputId": "57e86604-de35-4028-dea4-beddff268176",
        "colab": {
          "base_uri": "https://localhost:8080/",
          "height": 0
        }
      },
      "outputs": [
        {
          "output_type": "execute_result",
          "data": {
            "text/plain": [
              "dict_keys(['episode_durations', 'epsiode_returns', 'n_training_epochs', 'n_steps_simulated', 'training_completed'])"
            ]
          },
          "metadata": {},
          "execution_count": 13
        }
      ],
      "source": [
        "# the method my_agent.train() from the previous cell returns a dictionary\n",
        "# with training stats, namely:\n",
        "# - duration of each episode during training,\n",
        "# - return of each episode during training\n",
        "# - the total number of training epochs at the end of each episode\n",
        "# - the total number of steps simulated at the end of each episode\n",
        "\n",
        "training_results.keys()"
      ],
      "id": "a9f5a432"
    },
    {
      "cell_type": "markdown",
      "metadata": {
        "id": "7a56a744"
      },
      "source": [
        "# Plot training stats"
      ],
      "id": "7a56a744"
    },
    {
      "cell_type": "code",
      "execution_count": 14,
      "metadata": {
        "id": "f3258458",
        "outputId": "441832b6-1647-4fca-a895-182a2722f606",
        "colab": {
          "base_uri": "https://localhost:8080/",
          "height": 696
        }
      },
      "outputs": [
        {
          "output_type": "display_data",
          "data": {
            "text/plain": [
              "<Figure size 500x800 with 2 Axes>"
            ],
            "image/png": "[encoded data removed]"
          },
          "metadata": {}
        }
      ],
      "source": [
        "# Plot both the return per episode and the duration per episode during\n",
        "# training, together with their running average over 20 consecutive episodes\n",
        "\n",
        "N = 100 # number of episodes for running average\n",
        "\n",
        "def running_mean(x,N=100):\n",
        "        x_out = np.zeros(len(x)-N,dtype=float)\n",
        "        for i in range(len(x)-N):\n",
        "                x_out[i] = np.mean(x[i:i+N+1])\n",
        "        return x_out\n",
        "\n",
        "def plot_returns_and_durations(training_results,filename=None):\n",
        "    fig,axes = plt.subplots(2,1,figsize=(5,8))\n",
        "    fig.subplots_adjust(hspace=0.0001)\n",
        "    #\n",
        "    # return as a function of episode\n",
        "    ax = axes[0]\n",
        "    x = training_results['epsiode_returns']\n",
        "    t = np.arange(len(x)) + 1\n",
        "    #\n",
        "    ax.plot(t,x,label='training',color='dodgerblue',)\n",
        "    # add running mean\n",
        "    x = running_mean(x=x,N=N)\n",
        "    t = np.arange(len(x)) + N\n",
        "    ax.plot(t,x,color='black',label='running mean')\n",
        "    #\n",
        "    ax.axhline(230,ls='--',\n",
        "               label='230',\n",
        "                        color='red')\n",
        "    #\n",
        "    ax.set_ylim(-499,350)\n",
        "    ax.set_xticks([])\n",
        "    ax.set_xlim(0,len(t)+100)\n",
        "    ax.set_xlabel(r'episode')\n",
        "    ax.set_ylabel(r'return')\n",
        "    #\n",
        "    #\n",
        "    ax = axes[1]\n",
        "    x = training_results['episode_durations']\n",
        "    t = np.arange(len(x)) + 1\n",
        "    #\n",
        "    ax.plot(t,x,label='training',color='dodgerblue',)\n",
        "    # add running mean\n",
        "    x = running_mean(x=x,N=N)\n",
        "    t = np.arange(len(x)) + N\n",
        "    ax.plot(t,x,color='black',label='running mean')\n",
        "    #\n",
        "    ax.axhline(1200,ls='--', # draw line outside of plot scale,\n",
        "                label='230', # to get the red dotted line into the legend\n",
        "                        color='red')\n",
        "    #\n",
        "    ax.set_ylim(0,1100)\n",
        "    ax.set_xlim(0,len(t)+100)\n",
        "    ax.set_xlabel(r'episode')\n",
        "    ax.set_ylabel(r'duration')\n",
        "    ax.legend(loc='upper right',bbox_to_anchor=(1.,1.35),\n",
        "                                framealpha=0.95,\n",
        "                        fontsize=18)\n",
        "    #\n",
        "    plt.show()\n",
        "    if filename != None:\n",
        "        fig.savefig(filename,bbox_inches='tight')\n",
        "    plt.close(fig)\n",
        "\n",
        "plot_returns_and_durations(training_results=training_results)"
      ],
      "id": "f3258458"
    },
    {
      "cell_type": "markdown",
      "metadata": {
        "id": "900a1245"
      },
      "source": [
        "# Create gameplay video using trained agent\n",
        "\n",
        "First we create a \"live\" video that pops up and shows Lunar Lander gameplay performed by the agent"
      ],
      "id": "900a1245"
    },
    {
      "cell_type": "code",
      "execution_count": 15,
      "metadata": {
        "id": "f6140542"
      },
      "outputs": [],
      "source": [
        "# There is the issue that the game window freezes when running gym games\n",
        "# in jupyter notebooks, see https://github.com/openai/gym/issues/2433\n",
        "# We here use the fix from that website, which is to use the following\n",
        "# wrapper class:\n",
        "class PyGameWrapper(gym.Wrapper):\n",
        "    def render(self, **kwargs):\n",
        "        retval = self.env.render( **kwargs)\n",
        "        for event in pygame.event.get():\n",
        "            pass\n",
        "        return retval"
      ],
      "id": "f6140542"
    },
    {
      "cell_type": "code",
      "execution_count": 16,
      "metadata": {
        "ExecuteTime": {
          "end_time": "2022-04-10T14:32:59.104279Z",
          "start_time": "2022-04-10T14:32:59.096125Z"
        },
        "id": "bcf9e4b2",
        "outputId": "43e2f52d-7add-4925-be24-ce2121d55772",
        "colab": {
          "base_uri": "https://localhost:8080/",
          "height": 0
        }
      },
      "outputs": [
        {
          "output_type": "stream",
          "name": "stdout",
          "text": [
            "Run 1: duration = 248, total return =  14.514\n",
            "Run 2: duration = 377, total return = 248.985\n",
            "Run 3: duration = 230, total return = 265.657\n",
            "Run 4: duration = 369, total return = 191.265\n",
            "Run 5: duration = 238, total return = 242.310\n",
            "Run 6: duration = 269, total return = 239.245\n",
            "Run 7: duration = 323, total return = 248.480\n",
            "Run 8: duration = 381, total return = 218.104\n",
            "Run 9: duration = 246, total return = 252.300\n",
            "Run 10: duration = 470, total return = 221.463\n",
            "Run 11: duration = 366, total return = 228.637\n",
            "Run 12: duration = 264, total return = 225.442\n",
            "Run 13: duration = 412, total return = 236.490\n",
            "Run 14: duration = 397, total return = 226.231\n",
            "Run 15: duration = 411, total return = 244.396\n",
            "Run 16: duration = 277, total return = 256.117\n",
            "Run 17: duration = 235, total return = 252.910\n",
            "Run 18: duration = 465, total return = 257.295\n",
            "Run 19: duration = 294, total return = 259.867\n",
            "Run 20: duration = 242, total return = 242.040\n",
            "Run 21: duration = 282, total return = 270.701\n",
            "Run 22: duration = 318, total return = 260.515\n",
            "Run 23: duration = 1000, total return = 133.132\n",
            "Run 24: duration = 403, total return = 242.232\n",
            "Run 25: duration = 500, total return = 248.794\n",
            "Run 26: duration = 1000, total return = 146.760\n",
            "Run 27: duration = 418, total return = 236.674\n",
            "Run 28: duration = 297, total return = 224.078\n",
            "Run 29: duration = 740, total return = 201.677\n",
            "Run 30: duration = 277, total return = 261.403\n",
            "Run 31: duration = 1000, total return = 144.660\n",
            "Run 32: duration = 347, total return = 262.270\n",
            "Run 33: duration = 1000, total return = 162.782\n",
            "Run 34: duration = 267, total return =  37.562\n",
            "Run 35: duration = 337, total return = 258.332\n",
            "Run 36: duration = 1000, total return = 134.772\n",
            "Run 37: duration = 344, total return = 254.130\n",
            "Run 38: duration = 1000, total return = 105.749\n",
            "Run 39: duration = 1000, total return = 143.841\n",
            "Run 40: duration = 595, total return = 230.054\n",
            "Run 41: duration = 322, total return = 241.073\n",
            "Run 42: duration = 286, total return = 237.698\n",
            "Run 43: duration = 1000, total return = 142.797\n",
            "Run 44: duration = 408, total return = 252.662\n",
            "Run 45: duration = 402, total return = 262.550\n",
            "Run 46: duration = 319, total return = 230.427\n",
            "Run 47: duration = 350, total return = 249.565\n",
            "Run 48: duration = 316, total return = 222.992\n",
            "Run 49: duration = 379, total return = 220.360\n",
            "Run 50: duration = 493, total return = 278.496\n",
            "Run 51: duration = 346, total return = 248.227\n",
            "Run 52: duration = 485, total return = 248.675\n",
            "Run 53: duration = 332, total return = 265.492\n",
            "Run 54: duration = 582, total return = 234.948\n",
            "Run 55: duration = 473, total return = 230.542\n",
            "Run 56: duration = 1000, total return = 120.883\n",
            "Run 57: duration = 389, total return = 252.505\n",
            "Run 58: duration = 246, total return = 244.084\n",
            "Run 59: duration = 347, total return = 230.331\n",
            "Run 60: duration = 258, total return = 263.901\n",
            "Run 61: duration = 310, total return = 268.982\n",
            "Run 62: duration = 412, total return = 208.253\n",
            "Run 63: duration = 336, total return = 267.224\n",
            "Run 64: duration = 373, total return = 229.150\n",
            "Run 65: duration = 280, total return = 219.745\n",
            "Run 66: duration = 356, total return = 237.770\n",
            "Run 67: duration = 952, total return = 255.415\n",
            "Run 68: duration = 352, total return = 233.647\n",
            "Run 69: duration = 259, total return = 252.721\n",
            "Run 70: duration = 737, total return = 248.405\n",
            "Run 71: duration = 309, total return = 224.776\n",
            "Run 72: duration = 312, total return = 228.812\n",
            "Run 73: duration = 263, total return = 244.005\n",
            "Run 74: duration = 409, total return = 236.020\n",
            "Run 75: duration = 381, total return = 263.537\n",
            "Run 76: duration = 260, total return = 255.441\n",
            "Run 77: duration = 450, total return = 208.262\n",
            "Run 78: duration = 395, total return = 260.990\n",
            "Run 79: duration = 324, total return = 198.910\n",
            "Run 80: duration = 1000, total return = 139.890\n",
            "Run 81: duration = 393, total return = 257.917\n",
            "Run 82: duration = 263, total return = 231.802\n",
            "Run 83: duration = 389, total return = 264.596\n",
            "Run 84: duration = 442, total return = 231.733\n",
            "Run 85: duration = 502, total return = 228.113\n",
            "Run 86: duration = 450, total return = 264.621\n",
            "Run 87: duration = 1000, total return = 151.513\n",
            "Run 88: duration = 382, total return = 229.584\n",
            "Run 89: duration = 317, total return = 259.939\n",
            "Run 90: duration = 270, total return = 279.225\n",
            "Run 91: duration = 344, total return = 244.616\n",
            "Run 92: duration = 386, total return = 229.152\n",
            "Run 93: duration = 409, total return = 258.329\n",
            "Run 94: duration = 266, total return = 221.495\n",
            "Run 95: duration = 354, total return = 225.551\n",
            "Run 96: duration = 1000, total return = 113.293\n",
            "Run 97: duration = 341, total return = 232.480\n",
            "Run 98: duration = 295, total return = 255.944\n",
            "Run 99: duration = 333, total return = 209.855\n",
            "Run 100: duration = 513, total return = 233.313\n"
          ]
        }
      ],
      "source": [
        "# Create a wrapped environment\n",
        "env = PyGameWrapper(gym.make('LunarLander-v3',render_mode='human'))\n",
        "\n",
        "N_episodes = 100\n",
        "\n",
        "result_string = 'Run {0}: duration = {1}, total return = {2:7.3f}'\n",
        "\n",
        "for j in range(N_episodes):\n",
        "    state, info = env.reset()\n",
        "\n",
        "    total_reward = 0\n",
        "    for i in itertools.count():\n",
        "        #env.render()\n",
        "\n",
        "        action = my_agent.act(state)\n",
        "        state, reward, terminated, truncated, info = env.step(action)\n",
        "        done = terminated or truncated\n",
        "        total_reward += reward\n",
        "\n",
        "        if done:\n",
        "            print(result_string.format(j+1,i+1,total_reward))\n",
        "            break\n",
        "\n",
        "env.close()"
      ],
      "id": "bcf9e4b2"
    },
    {
      "cell_type": "markdown",
      "metadata": {
        "id": "09d4b344"
      },
      "source": [
        "We also create a video file containing 20 games played by the agent"
      ],
      "id": "09d4b344"
    },
    {
      "cell_type": "code",
      "source": [
        "import gymnasium as gym\n",
        "from gymnasium.wrappers import RecordEpisodeStatistics, RecordVideo\n",
        "\n",
        "num_eval_episodes = 100\n",
        "\n",
        "env = gym.make(\"LunarLander-v3\", render_mode=\"rgb_array\")  # replace with your environment\n",
        "env = RecordVideo(env, video_folder=\"my_video\", name_prefix=\"eval\",\n",
        "                  episode_trigger=lambda x: True)\n",
        "\n",
        "env = RecordEpisodeStatistics(env, buffer_length=num_eval_episodes)\n",
        "\n",
        "for episode_num in range(num_eval_episodes):\n",
        "    obs, info = env.reset()\n",
        "\n",
        "    episode_over = False\n",
        "    while not episode_over:\n",
        "        action = my_agent.act(state)\n",
        "        #action = env.action_space.sample()  # replace with actual agent\n",
        "        obs, reward, terminated, truncated, info = env.step(action)\n",
        "\n",
        "        episode_over = terminated or truncated\n",
        "env.close()\n",
        "\n",
        "print(f'Episode time taken: {env.time_queue}')\n",
        "print(f'Episode total rewards: {env.return_queue}')\n",
        "print(f'Episode lengths: {env.length_queue}')"
      ],
      "metadata": {
        "colab": {
          "base_uri": "https://localhost:8080/",
          "height": 0
        },
        "id": "CU-e5S185jyB",
        "outputId": "a4d39c98-bd7d-43c4-fd12-6a1d439c18a6"
      },
      "execution_count": 17,
      "outputs": [
        {
          "output_type": "stream",
          "name": "stdout",
          "text": [
            "Episode time taken: deque([0.311925, 0.28265, 0.292123, 0.163196, 0.311078, 0.443475, 0.424414, 0.180685, 0.256797, 0.250661, 0.195404, 0.184452, 0.171173, 0.235925, 0.298416, 0.282709, 0.215556, 0.175997, 0.180359, 0.181282, 0.194256, 0.198976, 0.211736, 0.17581, 0.216039, 0.262194, 0.170621, 0.334554, 0.427533, 0.341296, 0.373633, 0.258384, 0.257188, 0.230793, 0.278835, 0.224457, 0.340175, 0.19485, 0.259501, 0.204033, 0.219903, 0.202196, 0.179451, 0.188532, 0.238245, 0.256306, 0.219375, 0.313412, 0.281403, 0.371024, 0.29449, 0.283219, 0.440799, 0.232745, 0.18972, 0.274274, 0.225524, 0.289379, 0.188666, 0.276966, 0.17473, 0.162626, 0.18886, 0.19861, 0.202365, 0.269546, 0.181188, 0.220788, 0.189535, 0.288949, 0.160587, 0.161592, 0.310657, 0.274798, 0.325157, 0.318655, 0.218424, 0.201108, 0.252109, 0.254843, 0.262852, 0.153719, 0.169261, 0.248311, 0.171791, 0.194068, 0.218216, 0.297351, 0.230847, 0.168986, 0.241275, 0.340926, 0.229671, 0.239674, 0.344907, 0.297843, 0.433897, 0.377388, 0.166869, 0.207386], maxlen=100)\n",
            "Episode total rewards: deque([-833.6724371955099, -737.155293017751, -769.1016327150238, -358.9979936134969, -499.80505331710754, -830.4024996506721, -746.6556632552288, -384.3875448352385, -458.59509712714737, -637.6562508401056, -436.3906859077023, -375.4763930185799, -339.1293262871807, -549.7181927355307, -860.308856179099, -718.3739713528911, -474.98617231231776, -320.5484490972265, -362.90073945663175, -412.03801495105813, -494.68037035513487, -535.6929111889989, -502.5447840388741, -443.7064514062893, -508.0822197259536, -775.5276551924444, -306.8214401853977, -573.1598673302096, -700.7508472655395, -580.6012383198097, -777.2911270911196, -716.5291525093843, -542.4688426053635, -549.3332474707024, -705.369643859316, -503.26923799097796, -618.2979652635264, -536.0715703517415, -653.7364326047871, -440.62108294053746, -481.50893200340147, -432.1456431027793, -440.8757702929886, -440.51586088908294, -639.9634244726616, -711.7662663354771, -518.3635159546607, -1039.7633603393215, -787.2720076853229, -562.2032130661305, -392.95579463658316, -349.78153046067774, -570.0284063818576, -566.3251708912629, -523.808615192989, -765.0687538231439, -488.967042082483, -748.2266858039036, -554.8915479291429, -976.1331819239143, -507.83001228697543, -431.7478067718968, -493.9559516890864, -483.8488878209061, -554.3832438181835, -978.4455690186712, -457.0452382913607, -666.088170479038, -539.6080082268606, -873.5587257578326, -472.5979024195388, -370.86922785081777, -583.627149940656, -435.3738909395878, -584.0089822539245, -535.9633434530476, -516.1962422021795, -558.1445352295151, -656.8123410796321, -798.9592906486548, -977.4525757371935, -320.6013984333664, -378.4660479626198, -758.5178442595258, -389.990390027314, -470.4175108082914, -542.8786868953352, -889.8756339935437, -739.4417318360295, -417.18592840269883, -814.4810190426866, -684.5682772425807, -772.2638754033887, -645.4233256092145, -513.2943876477673, -431.04078049127696, -787.0474429348649, -885.8007427620975, -395.1330845825335, -493.08490138131845], maxlen=100)\n",
            "Episode lengths: deque([87, 79, 85, 53, 63, 87, 74, 51, 77, 69, 57, 51, 51, 71, 87, 80, 64, 50, 53, 51, 56, 58, 62, 52, 64, 78, 51, 71, 80, 62, 83, 75, 68, 67, 84, 64, 103, 57, 78, 60, 65, 58, 54, 56, 71, 76, 64, 88, 84, 68, 54, 52, 89, 67, 57, 79, 68, 83, 62, 86, 58, 52, 62, 62, 67, 86, 60, 67, 62, 90, 53, 49, 61, 55, 61, 61, 67, 65, 79, 82, 85, 51, 55, 81, 56, 62, 67, 84, 73, 53, 78, 109, 74, 75, 82, 59, 84, 84, 55, 63], maxlen=100)\n"
          ]
        }
      ],
      "id": "CU-e5S185jyB"
    }
  ],
  "metadata": {
    "kernelspec": {
      "display_name": "Python 3",
      "name": "python3"
    },
    "language_info": {
      "codemirror_mode": {
        "name": "ipython",
        "version": 3
      },
      "file_extension": ".py",
      "mimetype": "text/x-python",
      "name": "python",
      "nbconvert_exporter": "python",
      "pygments_lexer": "ipython3",
      "version": "3.10.8"
    },
    "vscode": {
      "interpreter": {
        "hash": "d116e2643d320c245b477f305ead3df20562f29da6b60096a48b2443ed17af37"
      }
    },
    "colab": {
      "provenance": [],
      "gpuType": "T4"
    },
    "accelerator": "GPU"
  },
  "nbformat": 4,
  "nbformat_minor": 5
}